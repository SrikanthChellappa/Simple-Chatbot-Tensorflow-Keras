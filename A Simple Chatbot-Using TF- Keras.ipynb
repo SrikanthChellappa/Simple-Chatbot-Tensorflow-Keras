{
 "cells": [
  {
   "cell_type": "markdown",
   "id": "446e22b8",
   "metadata": {},
   "source": [
    "# A Simple Chatbot Using TF / Keras\n",
    "\n",
    "This chatbot is implemented using TF/Keras and the training text is kept in a normal text file as a text array. The model will be trained using this text and will be validated against a sample text to check its accuracy"
   ]
  },
  {
   "cell_type": "markdown",
   "id": "86d98293",
   "metadata": {},
   "source": [
    "# All common imports"
   ]
  },
  {
   "cell_type": "code",
   "execution_count": 15,
   "id": "921d5643",
   "metadata": {},
   "outputs": [],
   "source": [
    "import numpy as np\n",
    "import tensorflow as tf\n",
    "from tensorflow.keras.preprocessing.text import Tokenizer\n",
    "from tensorflow.keras.preprocessing.sequence import pad_sequences\n",
    "from tensorflow.keras.models import Sequential\n",
    "from tensorflow.keras.layers import Embedding,LSTM,Dense,Dropout,Bidirectional,GlobalAveragePooling1D,Flatten\n",
    "import json\n",
    "from sklearn.preprocessing import LabelEncoder"
   ]
  },
  {
   "cell_type": "markdown",
   "id": "ef19b7dc",
   "metadata": {},
   "source": [
    "# Loading few sample chat transcripts from chat-intents.json file stored under ./tmp/simple-chat-bot folder"
   ]
  },
  {
   "cell_type": "code",
   "execution_count": 16,
   "id": "1954a111",
   "metadata": {},
   "outputs": [
    {
     "name": "stdout",
     "output_type": "stream",
     "text": [
      "{'intents': [{'tag': 'greeting', 'patterns': ['Hi', 'Hey', 'Is anyone there?', 'Hello', 'Hay'], 'responses': ['Hello', 'Hi', 'Hi there']}, {'tag': 'goodbye', 'patterns': ['Bye', 'See you later', 'Goodbye'], 'responses': ['See you later', 'Have a nice day', 'Bye! Come back again']}, {'tag': 'wish', 'patterns': ['How are you?', 'HRU', 'How is the day?'], 'responses': ['Fine. Thank You', 'Great. Thanks for asking']}, {'tag': 'thanks', 'patterns': ['Thanks', 'Thank you', \"That's helpful\", 'Thanks for the help'], 'responses': ['Happy to help!', 'Any time!', 'My pleasure', \"You're most welcome!\"]}, {'tag': 'about', 'patterns': ['Who are you?', 'What are you?', 'Who you are?'], 'responses': [\"I'm Agasthya, your bot assistant\", \"I'm Agasthya, an Artificial Intelligent bot\"]}, {'tag': 'name', 'patterns': ['what is your name', 'what should I call you', 'whats your name?'], 'responses': ['You can call me Agasthya.', 'Just call me as Agasthya']}, {'tag': 'help', 'patterns': ['Could you help me?', 'give me a hand please', 'Can you help?', 'What can you do for me?', 'I need a support', 'I need a help', 'support me please'], 'responses': ['Tell me how can assist you', 'Tell me your problem to assist you', 'Yes Sure, How can I support you']}, {'tag': 'food', 'patterns': ['I want to order some food', 'can i get something to eat', 'I want some food', 'i am hungry', 'need something im dying'], 'responses': ['which type of food you want', 'Agasthya have plenty of dishes what you want']}, {'tag': 'non veg', 'patterns': ['briyani', 'chicken', 'fish'], 'responses': ['you have to pay before cofirm your order', 'want to pay COD or online to confirm your order', 'pay first']}, {'tag': 'veg', 'patterns': ['daal', 'matter', 'sabzi', 'roti'], 'responses': ['you have to pay before cofirm your order', 'want to pay COD or online to confirm your order', 'pay first']}]}\n"
     ]
    }
   ],
   "source": [
    "with open('./tmp/simple-chat-bot/chat-intents.json') as file:\n",
    "    data = json.load(file)\n",
    "print(data)"
   ]
  },
  {
   "cell_type": "markdown",
   "id": "60ef8270",
   "metadata": {},
   "source": [
    "# Data Pre-Processing\n",
    "\n",
    "The variable 'training_sentences' holds all the training data (which are the sample messages in each intent category) and the 'training_labels' variable holds all the target labels correspond to each training data.\n",
    "Then we use 'LabelEncoder()' function provided by scikit-learn to convert the target labels into a model understandable form."
   ]
  },
  {
   "cell_type": "code",
   "execution_count": 17,
   "id": "e981f545",
   "metadata": {},
   "outputs": [],
   "source": [
    "training_sentences = []\n",
    "training_labels = []\n",
    "labels = []\n",
    "responses = []\n",
    "for intent in data['intents']:\n",
    "    for patterns in intent['patterns']:\n",
    "        training_sentences.append(patterns)\n",
    "        training_labels.append(intent['tag'])\n",
    "    responses.append(intent['responses'])\n",
    "    \n",
    "    if intent['tag'] not in labels:\n",
    "        labels.append(intent['tag'])\n",
    "        \n",
    "encoder= LabelEncoder()\n",
    "encoder.fit(training_labels)\n",
    "training_labels = encoder.transform(training_labels)"
   ]
  },
  {
   "cell_type": "markdown",
   "id": "69352019",
   "metadata": {},
   "source": [
    "# Tokenize the above text"
   ]
  },
  {
   "cell_type": "code",
   "execution_count": 18,
   "id": "49a964eb",
   "metadata": {
    "scrolled": true
   },
   "outputs": [],
   "source": [
    "vocab_size = 1000\n",
    "max_len = 20\n",
    "oov_token = \"<OOV>\"\n",
    "\n",
    "# Tokenize the text\n",
    "tokenizer = Tokenizer(num_words=vocab_size, oov_token=oov_token)\n",
    "tokenizer.fit_on_texts(training_sentences)\n",
    "word_index = tokenizer.word_index"
   ]
  },
  {
   "cell_type": "markdown",
   "id": "a269e2b6",
   "metadata": {},
   "source": [
    "# Convert text tokens to sequences"
   ]
  },
  {
   "cell_type": "code",
   "execution_count": 19,
   "id": "9859c6ca",
   "metadata": {},
   "outputs": [],
   "source": [
    "sequences = tokenizer.texts_to_sequences(training_sentences)\n",
    "padded_sequences = pad_sequences(sequences, truncating='post', maxlen=max_len)"
   ]
  },
  {
   "cell_type": "markdown",
   "id": "3115e4bf",
   "metadata": {},
   "source": [
    "# Building & Compiling the model"
   ]
  },
  {
   "cell_type": "code",
   "execution_count": 20,
   "id": "f9e8a9d5",
   "metadata": {},
   "outputs": [
    {
     "name": "stdout",
     "output_type": "stream",
     "text": [
      "Model: \"sequential_3\"\n",
      "_________________________________________________________________\n",
      " Layer (type)                Output Shape              Param #   \n",
      "=================================================================\n",
      " embedding_3 (Embedding)     (None, 20, 16)            16000     \n",
      "                                                                 \n",
      " bidirectional_6 (Bidirecti  (None, 20, 256)           148480    \n",
      " onal)                                                           \n",
      "                                                                 \n",
      " bidirectional_7 (Bidirecti  (None, 256)               394240    \n",
      " onal)                                                           \n",
      "                                                                 \n",
      " flatten_1 (Flatten)         (None, 256)               0         \n",
      "                                                                 \n",
      " dense_1 (Dense)             (None, 10)                2570      \n",
      "                                                                 \n",
      "=================================================================\n",
      "Total params: 561290 (2.14 MB)\n",
      "Trainable params: 561290 (2.14 MB)\n",
      "Non-trainable params: 0 (0.00 Byte)\n",
      "_________________________________________________________________\n"
     ]
    }
   ],
   "source": [
    "embedding_dim = 16\n",
    "num_classes = len(labels)\n",
    "model = Sequential()\n",
    "model.add(Embedding(vocab_size, embedding_dim, input_length=max_len))\n",
    "model.add(Bidirectional(LSTM(128,return_sequences=True,recurrent_dropout=0.2)))\n",
    "model.add(Bidirectional(LSTM(128,recurrent_dropout=0.2)))\n",
    "model.add(Flatten())\n",
    "model.add(Dense(num_classes, activation='softmax'))\n",
    "\n",
    "# Compile the model\n",
    "model.compile(loss='sparse_categorical_crossentropy',\n",
    "              optimizer='adam',\n",
    "              metrics=['accuracy'])\n",
    "\n",
    "#model.compile(loss=\"sparse_categorical_crossentropy\", optimizer=\"adam\", metrics=[\"accuracy\"])\n",
    "model.summary()"
   ]
  },
  {
   "cell_type": "markdown",
   "id": "35af21ef",
   "metadata": {},
   "source": [
    "# Training the model"
   ]
  },
  {
   "cell_type": "code",
   "execution_count": 22,
   "id": "454c861d",
   "metadata": {
    "scrolled": true
   },
   "outputs": [
    {
     "name": "stdout",
     "output_type": "stream",
     "text": [
      "Epoch 1/100\n",
      "2/2 [==============================] - 0s 79ms/step - loss: 2.2456 - accuracy: 0.1750\n",
      "Epoch 2/100\n",
      "2/2 [==============================] - 0s 64ms/step - loss: 2.2418 - accuracy: 0.1750\n",
      "Epoch 3/100\n",
      "2/2 [==============================] - 0s 69ms/step - loss: 2.2440 - accuracy: 0.1750\n",
      "Epoch 4/100\n",
      "2/2 [==============================] - 0s 76ms/step - loss: 2.2432 - accuracy: 0.2000\n",
      "Epoch 5/100\n",
      "2/2 [==============================] - 0s 85ms/step - loss: 2.2408 - accuracy: 0.2000\n",
      "Epoch 6/100\n",
      "2/2 [==============================] - 0s 82ms/step - loss: 2.2308 - accuracy: 0.1750\n",
      "Epoch 7/100\n",
      "2/2 [==============================] - 0s 67ms/step - loss: 2.2160 - accuracy: 0.1750\n",
      "Epoch 8/100\n",
      "2/2 [==============================] - 0s 70ms/step - loss: 2.1890 - accuracy: 0.1750\n",
      "Epoch 9/100\n",
      "2/2 [==============================] - 0s 85ms/step - loss: 2.1621 - accuracy: 0.1750\n",
      "Epoch 10/100\n",
      "2/2 [==============================] - 0s 75ms/step - loss: 2.1704 - accuracy: 0.1750\n",
      "Epoch 11/100\n",
      "2/2 [==============================] - 0s 85ms/step - loss: 2.0497 - accuracy: 0.2000\n",
      "Epoch 12/100\n",
      "2/2 [==============================] - 0s 84ms/step - loss: 1.9306 - accuracy: 0.2750\n",
      "Epoch 13/100\n",
      "2/2 [==============================] - 0s 85ms/step - loss: 1.8299 - accuracy: 0.4500\n",
      "Epoch 14/100\n",
      "2/2 [==============================] - 0s 85ms/step - loss: 1.7651 - accuracy: 0.2500\n",
      "Epoch 15/100\n",
      "2/2 [==============================] - 0s 81ms/step - loss: 1.6289 - accuracy: 0.2750\n",
      "Epoch 16/100\n",
      "2/2 [==============================] - 0s 81ms/step - loss: 1.7454 - accuracy: 0.3000\n",
      "Epoch 17/100\n",
      "2/2 [==============================] - 0s 89ms/step - loss: 1.6109 - accuracy: 0.3000\n",
      "Epoch 18/100\n",
      "2/2 [==============================] - 0s 78ms/step - loss: 1.5292 - accuracy: 0.3750\n",
      "Epoch 19/100\n",
      "2/2 [==============================] - 0s 95ms/step - loss: 1.4719 - accuracy: 0.5250\n",
      "Epoch 20/100\n",
      "2/2 [==============================] - 0s 84ms/step - loss: 1.4090 - accuracy: 0.5250\n",
      "Epoch 21/100\n",
      "2/2 [==============================] - 0s 81ms/step - loss: 1.3649 - accuracy: 0.4500\n",
      "Epoch 22/100\n",
      "2/2 [==============================] - 0s 84ms/step - loss: 1.1480 - accuracy: 0.5500\n",
      "Epoch 23/100\n",
      "2/2 [==============================] - 0s 83ms/step - loss: 1.0728 - accuracy: 0.5500\n",
      "Epoch 24/100\n",
      "2/2 [==============================] - 0s 92ms/step - loss: 1.0327 - accuracy: 0.5000\n",
      "Epoch 25/100\n",
      "2/2 [==============================] - 0s 85ms/step - loss: 0.9673 - accuracy: 0.5250\n",
      "Epoch 26/100\n",
      "2/2 [==============================] - 0s 77ms/step - loss: 0.9034 - accuracy: 0.6000\n",
      "Epoch 27/100\n",
      "2/2 [==============================] - 0s 93ms/step - loss: 0.9203 - accuracy: 0.5750\n",
      "Epoch 28/100\n",
      "2/2 [==============================] - 0s 97ms/step - loss: 0.8651 - accuracy: 0.6000\n",
      "Epoch 29/100\n",
      "2/2 [==============================] - 0s 77ms/step - loss: 0.8262 - accuracy: 0.5750\n",
      "Epoch 30/100\n",
      "2/2 [==============================] - 0s 86ms/step - loss: 0.7673 - accuracy: 0.6250\n",
      "Epoch 31/100\n",
      "2/2 [==============================] - 0s 62ms/step - loss: 0.9045 - accuracy: 0.6500\n",
      "Epoch 32/100\n",
      "2/2 [==============================] - 0s 85ms/step - loss: 0.6388 - accuracy: 0.7750\n",
      "Epoch 33/100\n",
      "2/2 [==============================] - 0s 68ms/step - loss: 0.6748 - accuracy: 0.5750\n",
      "Epoch 34/100\n",
      "2/2 [==============================] - 0s 93ms/step - loss: 0.6143 - accuracy: 0.6500\n",
      "Epoch 35/100\n",
      "2/2 [==============================] - 0s 82ms/step - loss: 0.5461 - accuracy: 0.7750\n",
      "Epoch 36/100\n",
      "2/2 [==============================] - 0s 82ms/step - loss: 0.5054 - accuracy: 0.8250\n",
      "Epoch 37/100\n",
      "2/2 [==============================] - 0s 86ms/step - loss: 0.4923 - accuracy: 0.7750\n",
      "Epoch 38/100\n",
      "2/2 [==============================] - 0s 78ms/step - loss: 0.4830 - accuracy: 0.8250\n",
      "Epoch 39/100\n",
      "2/2 [==============================] - 0s 108ms/step - loss: 0.4685 - accuracy: 0.8250\n",
      "Epoch 40/100\n",
      "2/2 [==============================] - 0s 81ms/step - loss: 0.3992 - accuracy: 0.8750\n",
      "Epoch 41/100\n",
      "2/2 [==============================] - 0s 69ms/step - loss: 0.3954 - accuracy: 0.8750\n",
      "Epoch 42/100\n",
      "2/2 [==============================] - 0s 83ms/step - loss: 0.3665 - accuracy: 0.8500\n",
      "Epoch 43/100\n",
      "2/2 [==============================] - 0s 89ms/step - loss: 0.3422 - accuracy: 0.8750\n",
      "Epoch 44/100\n",
      "2/2 [==============================] - 0s 81ms/step - loss: 0.3847 - accuracy: 0.8250\n",
      "Epoch 45/100\n",
      "2/2 [==============================] - 0s 84ms/step - loss: 0.4821 - accuracy: 0.8250\n",
      "Epoch 46/100\n",
      "2/2 [==============================] - 0s 87ms/step - loss: 0.3860 - accuracy: 0.8250\n",
      "Epoch 47/100\n",
      "2/2 [==============================] - 0s 78ms/step - loss: 0.3545 - accuracy: 0.9000\n",
      "Epoch 48/100\n",
      "2/2 [==============================] - 0s 82ms/step - loss: 0.2404 - accuracy: 0.9250\n",
      "Epoch 49/100\n",
      "2/2 [==============================] - 0s 66ms/step - loss: 0.2121 - accuracy: 0.9500\n",
      "Epoch 50/100\n",
      "2/2 [==============================] - 0s 80ms/step - loss: 0.2439 - accuracy: 0.9250\n",
      "Epoch 51/100\n",
      "2/2 [==============================] - 0s 66ms/step - loss: 0.2282 - accuracy: 0.9500\n",
      "Epoch 52/100\n",
      "2/2 [==============================] - 0s 96ms/step - loss: 0.1972 - accuracy: 0.9250\n",
      "Epoch 53/100\n",
      "2/2 [==============================] - 0s 69ms/step - loss: 0.2018 - accuracy: 0.9250\n",
      "Epoch 54/100\n",
      "2/2 [==============================] - 0s 85ms/step - loss: 0.2727 - accuracy: 0.9250\n",
      "Epoch 55/100\n",
      "2/2 [==============================] - 0s 74ms/step - loss: 0.2379 - accuracy: 0.8750\n",
      "Epoch 56/100\n",
      "2/2 [==============================] - 0s 93ms/step - loss: 0.1034 - accuracy: 1.0000\n",
      "Epoch 57/100\n",
      "2/2 [==============================] - 0s 74ms/step - loss: 0.2767 - accuracy: 0.9250\n",
      "Epoch 58/100\n",
      "2/2 [==============================] - 0s 67ms/step - loss: 0.1230 - accuracy: 1.0000\n",
      "Epoch 59/100\n",
      "2/2 [==============================] - 0s 81ms/step - loss: 0.1349 - accuracy: 0.9750\n",
      "Epoch 60/100\n",
      "2/2 [==============================] - 0s 68ms/step - loss: 0.1105 - accuracy: 0.9750\n",
      "Epoch 61/100\n",
      "2/2 [==============================] - 0s 82ms/step - loss: 0.1176 - accuracy: 1.0000\n",
      "Epoch 62/100\n",
      "2/2 [==============================] - 0s 101ms/step - loss: 0.1443 - accuracy: 0.9500\n",
      "Epoch 63/100\n",
      "2/2 [==============================] - 0s 83ms/step - loss: 0.0739 - accuracy: 1.0000\n",
      "Epoch 64/100\n",
      "2/2 [==============================] - 0s 67ms/step - loss: 0.2054 - accuracy: 0.9500\n",
      "Epoch 65/100\n",
      "2/2 [==============================] - 0s 93ms/step - loss: 0.0620 - accuracy: 1.0000\n",
      "Epoch 66/100\n",
      "2/2 [==============================] - 0s 86ms/step - loss: 0.1322 - accuracy: 0.9750\n",
      "Epoch 67/100\n",
      "2/2 [==============================] - 0s 79ms/step - loss: 0.1685 - accuracy: 0.9500\n",
      "Epoch 68/100\n",
      "2/2 [==============================] - 0s 88ms/step - loss: 0.3655 - accuracy: 0.9000\n",
      "Epoch 69/100\n",
      "2/2 [==============================] - 0s 87ms/step - loss: 0.1974 - accuracy: 0.9250\n",
      "Epoch 70/100\n",
      "2/2 [==============================] - 0s 83ms/step - loss: 0.2171 - accuracy: 0.9000\n",
      "Epoch 71/100\n",
      "2/2 [==============================] - 0s 91ms/step - loss: 0.1063 - accuracy: 0.9750\n",
      "Epoch 72/100\n",
      "2/2 [==============================] - 0s 83ms/step - loss: 0.1339 - accuracy: 0.9500\n",
      "Epoch 73/100\n",
      "2/2 [==============================] - 0s 88ms/step - loss: 0.0650 - accuracy: 1.0000\n",
      "Epoch 74/100\n",
      "2/2 [==============================] - 0s 85ms/step - loss: 0.1844 - accuracy: 0.9750\n",
      "Epoch 75/100\n",
      "2/2 [==============================] - 0s 84ms/step - loss: 0.2330 - accuracy: 0.9500\n",
      "Epoch 76/100\n",
      "2/2 [==============================] - 0s 88ms/step - loss: 0.0932 - accuracy: 0.9750\n",
      "Epoch 77/100\n",
      "2/2 [==============================] - 0s 82ms/step - loss: 0.2361 - accuracy: 0.9500\n",
      "Epoch 78/100\n",
      "2/2 [==============================] - 0s 96ms/step - loss: 0.3368 - accuracy: 0.9250\n",
      "Epoch 79/100\n",
      "2/2 [==============================] - 0s 86ms/step - loss: 0.5264 - accuracy: 0.8500\n",
      "Epoch 80/100\n",
      "2/2 [==============================] - 0s 79ms/step - loss: 0.5212 - accuracy: 0.9000\n",
      "Epoch 81/100\n",
      "2/2 [==============================] - 0s 97ms/step - loss: 0.4332 - accuracy: 0.8750\n",
      "Epoch 82/100\n",
      "2/2 [==============================] - 0s 84ms/step - loss: 0.3446 - accuracy: 0.8750\n",
      "Epoch 83/100\n",
      "2/2 [==============================] - 0s 68ms/step - loss: 0.2857 - accuracy: 0.8250\n",
      "Epoch 84/100\n",
      "2/2 [==============================] - 0s 68ms/step - loss: 0.3460 - accuracy: 0.8250\n",
      "Epoch 85/100\n",
      "2/2 [==============================] - 0s 100ms/step - loss: 0.3665 - accuracy: 0.8750\n",
      "Epoch 86/100\n",
      "2/2 [==============================] - 0s 82ms/step - loss: 0.3091 - accuracy: 0.9000\n",
      "Epoch 87/100\n",
      "2/2 [==============================] - 0s 85ms/step - loss: 0.3493 - accuracy: 0.9000\n",
      "Epoch 88/100\n",
      "2/2 [==============================] - 0s 77ms/step - loss: 0.4914 - accuracy: 0.8000\n",
      "Epoch 89/100\n",
      "2/2 [==============================] - 0s 83ms/step - loss: 0.1841 - accuracy: 0.9000\n",
      "Epoch 90/100\n",
      "2/2 [==============================] - 0s 84ms/step - loss: 0.4058 - accuracy: 0.8500\n",
      "Epoch 91/100\n",
      "2/2 [==============================] - 0s 90ms/step - loss: 0.3296 - accuracy: 0.8750\n",
      "Epoch 92/100\n",
      "2/2 [==============================] - 0s 88ms/step - loss: 0.1711 - accuracy: 0.9500\n",
      "Epoch 93/100\n",
      "2/2 [==============================] - 0s 85ms/step - loss: 0.2001 - accuracy: 0.8750\n",
      "Epoch 94/100\n",
      "2/2 [==============================] - 0s 91ms/step - loss: 0.2477 - accuracy: 0.9250\n",
      "Epoch 95/100\n",
      "2/2 [==============================] - 0s 85ms/step - loss: 0.1659 - accuracy: 0.9500\n",
      "Epoch 96/100\n",
      "2/2 [==============================] - 0s 89ms/step - loss: 0.1779 - accuracy: 0.9750\n",
      "Epoch 97/100\n",
      "2/2 [==============================] - 0s 85ms/step - loss: 0.2487 - accuracy: 0.8750\n",
      "Epoch 98/100\n",
      "2/2 [==============================] - 0s 91ms/step - loss: 0.2965 - accuracy: 0.9000\n",
      "Epoch 99/100\n",
      "2/2 [==============================] - 0s 64ms/step - loss: 0.2039 - accuracy: 0.9000\n",
      "Epoch 100/100\n",
      "2/2 [==============================] - 0s 84ms/step - loss: 0.1230 - accuracy: 0.9750\n"
     ]
    }
   ],
   "source": [
    "epochs = 100  # Increase the number of epochs to give the model more time to learn\n",
    "history = model.fit(padded_sequences, np.array(training_labels), epochs=epochs)"
   ]
  },
  {
   "cell_type": "markdown",
   "id": "d9b2ac7c",
   "metadata": {},
   "source": [
    "# Function to generate text based on the seed input given"
   ]
  },
  {
   "cell_type": "code",
   "execution_count": 23,
   "id": "39f70121",
   "metadata": {},
   "outputs": [
    {
     "name": "stdout",
     "output_type": "stream",
     "text": [
      "how are you?\n",
      "1/1 [==============================] - 1s 1s/step\n",
      "ChatBot: Fine. Thank You\n",
      "Who are you?\n",
      "1/1 [==============================] - 0s 16ms/step\n",
      "ChatBot: I'm Agasthya, your bot assistant\n",
      "who is your owner\n",
      "1/1 [==============================] - 0s 18ms/step\n",
      "ChatBot: I'm Agasthya, your bot assistant\n",
      "exit\n"
     ]
    }
   ],
   "source": [
    "while True:\n",
    "    inp = input()\n",
    "    if inp.lower() == \"exit\":\n",
    "        break\n",
    "    result = model.predict(tf.keras.preprocessing.sequence.pad_sequences(tokenizer.texts_to_sequences([inp]),\n",
    "                                             truncating='post', maxlen=max_len))\n",
    "    tag = encoder.inverse_transform([np.argmax(result)])\n",
    "\n",
    "    for i in data['intents']:\n",
    "        if i['tag'] == tag:\n",
    "            print(\"ChatBot:\"  , np.random.choice(i['responses']))"
   ]
  },
  {
   "cell_type": "code",
   "execution_count": null,
   "id": "bb492e33",
   "metadata": {},
   "outputs": [],
   "source": []
  }
 ],
 "metadata": {
  "kernelspec": {
   "display_name": "tfenv",
   "language": "python",
   "name": "tfenv"
  },
  "language_info": {
   "codemirror_mode": {
    "name": "ipython",
    "version": 3
   },
   "file_extension": ".py",
   "mimetype": "text/x-python",
   "name": "python",
   "nbconvert_exporter": "python",
   "pygments_lexer": "ipython3",
   "version": "3.11.5"
  }
 },
 "nbformat": 4,
 "nbformat_minor": 5
}
